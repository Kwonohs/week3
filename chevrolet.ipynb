{
 "cells": [
  {
   "cell_type": "code",
   "execution_count": 49,
   "metadata": {},
   "outputs": [
    {
     "name": "stdout",
     "output_type": "stream",
     "text": [
      "Requirement already satisfied: selenium in c:\\users\\user\\anaconda3\\lib\\site-packages (4.23.1)\n",
      "Requirement already satisfied: urllib3<3,>=1.26 in c:\\users\\user\\anaconda3\\lib\\site-packages (from urllib3[socks]<3,>=1.26->selenium) (2.2.2)\n",
      "Requirement already satisfied: trio~=0.17 in c:\\users\\user\\anaconda3\\lib\\site-packages (from selenium) (0.26.2)\n",
      "Requirement already satisfied: trio-websocket~=0.9 in c:\\users\\user\\anaconda3\\lib\\site-packages (from selenium) (0.11.1)\n",
      "Requirement already satisfied: certifi>=2021.10.8 in c:\\users\\user\\anaconda3\\lib\\site-packages (from selenium) (2024.7.4)\n",
      "Requirement already satisfied: typing_extensions~=4.9 in c:\\users\\user\\anaconda3\\lib\\site-packages (from selenium) (4.11.0)\n",
      "Requirement already satisfied: websocket-client~=1.8 in c:\\users\\user\\anaconda3\\lib\\site-packages (from selenium) (1.8.0)\n",
      "Requirement already satisfied: attrs>=23.2.0 in c:\\users\\user\\anaconda3\\lib\\site-packages (from trio~=0.17->selenium) (24.2.0)\n",
      "Requirement already satisfied: sortedcontainers in c:\\users\\user\\anaconda3\\lib\\site-packages (from trio~=0.17->selenium) (2.4.0)\n",
      "Requirement already satisfied: idna in c:\\users\\user\\anaconda3\\lib\\site-packages (from trio~=0.17->selenium) (3.7)\n",
      "Requirement already satisfied: outcome in c:\\users\\user\\anaconda3\\lib\\site-packages (from trio~=0.17->selenium) (1.3.0.post0)\n",
      "Requirement already satisfied: sniffio>=1.3.0 in c:\\users\\user\\anaconda3\\lib\\site-packages (from trio~=0.17->selenium) (1.3.0)\n",
      "Requirement already satisfied: cffi>=1.14 in c:\\users\\user\\anaconda3\\lib\\site-packages (from trio~=0.17->selenium) (1.16.0)\n",
      "Requirement already satisfied: wsproto>=0.14 in c:\\users\\user\\anaconda3\\lib\\site-packages (from trio-websocket~=0.9->selenium) (1.2.0)\n",
      "Requirement already satisfied: pysocks!=1.5.7,<2.0,>=1.5.6 in c:\\users\\user\\anaconda3\\lib\\site-packages (from urllib3[socks]<3,>=1.26->selenium) (1.7.1)\n",
      "Requirement already satisfied: pycparser in c:\\users\\user\\anaconda3\\lib\\site-packages (from cffi>=1.14->trio~=0.17->selenium) (2.21)\n",
      "Requirement already satisfied: h11<1,>=0.9.0 in c:\\users\\user\\anaconda3\\lib\\site-packages (from wsproto>=0.14->trio-websocket~=0.9->selenium) (0.14.0)\n",
      "Requirement already satisfied: webdriver_manager in c:\\users\\user\\anaconda3\\lib\\site-packages (4.0.2)\n",
      "Requirement already satisfied: requests in c:\\users\\user\\anaconda3\\lib\\site-packages (from webdriver_manager) (2.32.2)\n",
      "Requirement already satisfied: python-dotenv in c:\\users\\user\\anaconda3\\lib\\site-packages (from webdriver_manager) (0.21.0)\n",
      "Requirement already satisfied: packaging in c:\\users\\user\\anaconda3\\lib\\site-packages (from webdriver_manager) (23.2)\n",
      "Requirement already satisfied: charset-normalizer<4,>=2 in c:\\users\\user\\anaconda3\\lib\\site-packages (from requests->webdriver_manager) (2.0.4)\n",
      "Requirement already satisfied: idna<4,>=2.5 in c:\\users\\user\\anaconda3\\lib\\site-packages (from requests->webdriver_manager) (3.7)\n",
      "Requirement already satisfied: urllib3<3,>=1.21.1 in c:\\users\\user\\anaconda3\\lib\\site-packages (from requests->webdriver_manager) (2.2.2)\n",
      "Requirement already satisfied: certifi>=2017.4.17 in c:\\users\\user\\anaconda3\\lib\\site-packages (from requests->webdriver_manager) (2024.7.4)\n"
     ]
    }
   ],
   "source": [
    "!pip install selenium\n",
    "!pip install webdriver_manager"
   ]
  },
  {
   "cell_type": "code",
   "execution_count": 50,
   "metadata": {},
   "outputs": [],
   "source": [
    "import pandas as pd\n",
    "import requests\n",
    "from bs4 import BeautifulSoup\n",
    "from tqdm import tqdm\n",
    "import time\n",
    "from selenium import webdriver\n",
    "from selenium.webdriver.chrome.service import Service\n",
    "from webdriver_manager.chrome import ChromeDriverManager\n",
    "from selenium.webdriver.common.by import By\n",
    "from selenium.webdriver.support.ui import WebDriverWait\n",
    "from selenium.webdriver.support import expected_conditions as EC\n",
    "from selenium.webdriver.common.keys import Keys\n",
    "import time"
   ]
  },
  {
   "cell_type": "code",
   "execution_count": 51,
   "metadata": {},
   "outputs": [],
   "source": [
    "driver = webdriver.Chrome(service=Service(ChromeDriverManager().install()))\n",
    "driver.maximize_window()\n",
    "\n",
    "#driver 키기\n"
   ]
  },
  {
   "cell_type": "code",
   "execution_count": 53,
   "metadata": {},
   "outputs": [],
   "source": [
    "url = 'https://www.chevrolet.co.kr/faq'\n",
    "driver.get(url)\n",
    "text = []\n",
    "title = []\n",
    "images = []\n",
    "category = []\n"
   ]
  },
  {
   "cell_type": "code",
   "execution_count": 54,
   "metadata": {},
   "outputs": [],
   "source": [
    "for i in [2,3,5]:\n",
    "    driver.find_element(By.XPATH, f'/html/body/main/adv-grid[2]/adv-col[1]/div/adv-grid/adv-col[{i}]/div/a').click()\n",
    "    time.sleep(3)\n",
    "    for j in range(1, 11):\n",
    "        driver.find_element(By.XPATH, f'/html/body/main/adv-grid[5]/adv-col/div/div[{j}]/div/div[1]').click()\n",
    "        time.sleep(1)\n",
    "        text.append(driver.find_element(By.XPATH, f'/html/body/main/adv-grid[5]/adv-col/div/div[{j}]/div/div[2]/gb-content-well/adv-grid/adv-col/div').text)\n",
    "        if i == 2:\n",
    "            category.append('차량구매')\n",
    "            title.append(driver.find_element(By.XPATH, f'/html/body/main/adv-grid[5]/adv-col/div/div[{j}]/div/div[1]/h6').text.replace('[구매관련]', '').strip())\n",
    "        elif i == 3:\n",
    "            category.append('차량정비')\n",
    "            title.append(driver.find_element(By.XPATH, f'/html/body/main/adv-grid[5]/adv-col/div/div[{j}]/div/div[1]/h6').text.replace('[차량관리]', '').strip())\n",
    "        else:\n",
    "            category.append('홈페이지')\n",
    "            title.append(driver.find_element(By.XPATH, f'/html/body/main/adv-grid[5]/adv-col/div/div[{j}]/div/div[1]/h6').text.replace('[통합계정]', '').strip())\n",
    "        images.append(None)\n",
    "#카테고리 선택 및 누르기"
   ]
  },
  {
   "cell_type": "code",
   "execution_count": null,
   "metadata": {},
   "outputs": [],
   "source": []
  },
  {
   "cell_type": "code",
   "execution_count": 55,
   "metadata": {},
   "outputs": [
    {
     "name": "stdout",
     "output_type": "stream",
     "text": [
      "['자동차 근저당 설정 해지는 할부를 진행한 할부사의 지점을 방문하여 근저당 설정 해지 서류를 받으신 다음에 해당 관청(시청, 구청, 군청)의 차량 등록 사업부의 저당 설정 해지 창구에 제출하시면 됩니다. ', '저공해 자동차 증명서는 차량 구입을 담당한 전시장을 통해 재 발급이 가능합니다. \\n  차량 구입을 담당한 전시장이 폐점되어 재 발급이 어려운 경우에는 한국지엠 고객센터(☎ 080-3000-5000)로 연락주시기 바랍니다. ', '쉐보레 전시장을 통해 자세한 상담 받아주시기 바랍니다.', '출고예정일은 고객님께서 선택하신 차종, 옵션, 색상 등에 따라 다소 차이가 있습니다. \\n  차량 구입을 담당한 전시장(카매니저)을 통해 상담 받아주시길 부탁 드립니다. ', '할부금 중도 상환은 가능하며, 중도상환에 따른 수수료가 발생됩니다.\\n  할부금 잔액과 수수료, 납입 방법 관련해서는 이용하시는 할부사를 통해 자세한 상담 받아보시기 바랍니다. ', '신용카드 결제와 할부사 이용을 중복하여 사용 가능합니다. (계약자 본인 카드만 가능) ', '자동차 구입시 신용카드를 이용한 결제는 신용카드 개수에 제한 없이 결제 가능하고, 고객님 신용카드 한도 내에서 희망하시는 금액까지 자유로운 결제가 가능합니다. (자세한 내용은 담당 카매니저에게 문의하시기 바랍니다)  ', '여신전문금융법에 의해 결제권자와 소유권자는 동일해야 하며, 신차 구입시 신용카드 결제는 본인명의 카드로만 결제 가능합니다.', '조세특례제한법에 의거 신규로 출고되는 자동차 구입시 신용카드 금액은 소득공제 대상에서 제외됩니다.', '차량 구입을 상담한 전시장에 문의하시기 바랍니다.', '크루즈 디젤, 캡티바, 올란도 고객님, 쉐보레 차량을 운행해 주셔서 진심으로 감사 드립니다. \\n  차량을 운행하시다 보면 계기판 상에 DPF 재생 알림등이 점등되거나 깜박거리는 경우가 있습니다. 이는 차량에 문제가 있는 것이 아니오니 안심하시고 시속 60km 이상으로 약 20여분 정속 주행하시면 자동으로 DPF 재생 알림등이 소등됩니다.\\n  해당 운행 정보 참고하시어, 안전 운전 하시기 바랍니다. \\n  DPF 재생 알림등 점등 원리: DPF는 디젤엔진의 배기가스 중 외부로 배출되는 매연을 저감시켜 주는 장치로, DPF에 매연이 과도하게 축적되면 DPF재생을 통해 자기 정화 기능을 수행합니다. \\n  보통 전자제어컴퓨터가 최적의 조건을 판단하여 자동적으로 DPF재생을 수행하나, 자동 재생이 되지 않았을 경우 보다 효율적인 재생을 위해 전자제어컴퓨터가 주행모드를 변경하거나 시동을 끄고 켜는 것을 자제할 것을 요청할 수 있습니다.\\n  이 경우, DPF 재생 알림등이 점등되거나 깜박거리며 운전자에게 알람을 주게 됩니다. \\n  이는 모든 디젤 차량에서 일반적인 현상으로 알려드린 대로 주행모드를 변경하시면 DPF 재생이 이루어지면서 소등이 됩니다. ', '· 대성엘텍 및 S&T 대우 내비게이션 (크루즈, 말리부, ALL NEW 말리부, 올란도, 캡티바, 임팔라, 카마로SS, 알페온, 윈스톰, 토스카) \\n  내비게이션 업데이트는 www.rousen.com/gm 를 통해 다운로드 받아주시거나, 쉐보레 직영 서비스센터로 방문하여 업데이트를 받아보시기 바랍니다.(고객지원센터☎ 02-838-0777) \\n  차종 및 내비게이션 모델에 따라 CD를 구입하여 업데이트를 하는 방식도 있으니 보다 자세한 사항은 한국지엠 고객 센터(☎ 080-3000-5000)로 문의하시면 상세히 안내 받아보실 수 있습니다. ', '대부분의 경우 이런 현상이 일어나는 원인은 키를 꽂아두지 않은 상태 즉, 시동을 끈 상태에서 핸들을 돌렸을 경우 핸들이 잠기는 현상이 발생합니다. \\n  이는 도난방지를 위한 하나의 방편인데, 이때는 키가 돌아가지 않아서 시동이 걸리지 않습니다.\\n  이때 핸들을 푸는 방법은 왼손으로 핸들의 좌측상 단부를 잡고 시계 반대방향으로 힘껏 당기면서(돌리듯) 오른손으로 키를 돌리면 시동이 걸리면서 핸들이 풀립니다. ', '인터넷 정비 예약은 쉐보레 멤버스 고객께 제공되는 서비스입니다. \\n  우선은 쉐보레 멤버스에 가입을 하신 후 쉐보레 홈페이지의 쉐비케어 → 정비서비스 → 서비스센터 찾기 및 예약에서 가능합니다. ', '▶ 굿모닝 예약 할인\\n  오전 8:40 ~ 9:30 (입고시간 기준)에 예약하시면 총 수리비의 5%를 할인해 드립니다. (단, 인천/창원정비사업소, 속초바로정비: 오전 8:10 ~ 9:00 까지 할인) \\n  굿모닝 예약 할인은 주중(월~금)에만 적용됩니다. (토/일요일 제외) \\n쉐보레 오토카드를 소지하신 경우 5% 추가 할인됩니다. (굿모닝 예약 할인에 한함)  \\n  ▶ 오토카드 \\n해당카드 제출 시 수리비의 5%를 현장에서 할인해 드립니다. \\n  ▶ 굿모닝예약 & 오토카드 \\n총 수리비의 10% 를 할인해드립니다. ', '과거에는 리모콘키로 도어를 잠근 후 수동키로 열면 도난 경보음이 작동하였으나, 최근 생산 되는 차량은 일반키를 리모콘키가 감지하여, 수동키로 도어를 열 경우 정상적인 도어 개폐로 인식하기 때문에 경보음이 작동하지 않습니다.\\n  도난 경보 경고음은 리모콘키나 수동키를 사용하지 않고 다른 방법으로 도어, 트렁크, 엔진후드를 열 때 작동 됩니다. 단, 연식이 오래된 차량의 경우, 도난방지장치가 작동 중인 상태에서는 리모콘키를 사용하지 않고 수동키나 비정상적인 방법으로 도어 및 테일게이트를 열 경우 경고음이 작동됩니다.\\n  리모콘키의 잠금 또는 풀림버튼을 누르면 경보음 작동이 멈춥니다. 즉, 리모콘키로 도난 경계에 진입한 경우 리모콘키 이외의 방법으로 도어를 열게 되면 비상등이 점멸하고 사이렌이 울리면서 도난 경보 상태가 됩니다. 기능상 해제는 사이렌이 28초 동안 작동 후 종료되게 됩니다.', '메인 리모콘키를 비롯 예비 키(보조키)까지 모두 분실을 한 경우라면, 키 박스 전체를 교환하셔야 합니다. 서비스 네트워크까지 차량 운행을 못하는 경우이므로, 견인을 통해서 입고를 하여 키 박스 교체 작업을 해야 합니다. ', '순정 리모콘키는 당사 서비스 네트워크를 통해 구입이 가능합니다. \\n  리모콘키 부품을 서비스센터 자재과를 통해서 구입하셔서 새로운 리모콘키와 해당 차량간 코드가 맞도록 셋팅을 하고, 리모콘키의 쇠 부분은 가지고 계신 여분의 키를 이용해 외부에서 복사를 하셔야 합니다. ', '예측되는 몇 가지 사항\\n\\n* 조향핸들과 조향핸들축 커버가 간섭\\n\\n* 클럭스프링 불량\\n- 에어백 장착차량의 경우 조향핸들커버 안쪽에 에어백 모듈이 설치되고 이 에어백 모듈에 전기를 공급하기 위한 배선이 스프링 모양으로 감겨있는데, 이를 클럭스프링이라고 합니다. 이 클럭스프링이 조향핸들을 돌리는 과정에서 소음이 발생될 수 있습니다.\\n\\n* 조향핸들축이 회전시 간섭\\n-조향핸들축과 바닥 고무패킹 부위가 간섭될 경우 핸들 조향시 마찰음이 발생됩니다.\\n\\n* 조향핸들 기어박스의 고무패킹 윤활불량\\n-조향핸들 기어박스의 피니언기어축 고무부싱에서 주로 발생되며 피니언기어축이 회전할 때 마찰음이 발생됩니다.\\n\\n* 파워핸들 오일펌프 불량\\n-파워핸들 오일펌프가 불량하거나 오일이 부족할 경우 핸들을 돌릴 때 소음이 발생됩니다.\\n\\n* 파워핸들 오일펌프 벨트 불량\\n-파워 핸들 벨트의 재질이 불량하거나 장력이 약하여 슬립 발생시 소음이 발생됩니다.', '일반적으로 날씨가 추우면 배기가스가 흰 색을 띠는 것이 보통입니다만,\\n엑셀을 밟을 때마다 하얀 연기가 뭉실뭉실 나오면 이것은 엔진오일이 타고 있다는 신호일 수 있습니다.\\n\\n또 경우에 따라서는 연료에 불순물이 섞여 있을 경우나, 냉각수 부족으로 엔진이 과열 되었을 때에도 하얀 배기 가스가 나옵니다. 어떤 경우이든 하얀색의 배기가스가 나오면 우선 냉각수 상황과 엔진오일의 적정 여부부터 점검하는 것이 순서입니다.\\n\\n만일 냉각수나 엔진오일이 적정 수준이거나, 아니면 교환한지 얼마 지나지 않았음에도 하연색 배기가스가 나온 상태라면, 피스톤이나 실린더 벽이 마모되어 틈새가 많이 벌어졌거나, 피스톤과 실린더의 작동이 원활하도록 엔진오일 양을 조정하는 피스톤 링이 손상되었거나, 차가 연식이 오래된 경우라면 엔진을 밀봉해 주는 가스켓이 손상된 경우도 원인일 수 있습니다.', '한 개의 계정으로 GM의 모든 브랜드 차량을 관리하고 모든 브랜드의 온라인 서비스를 이용 할 수 있는 통합계정 시스템 입니다. ', '본인의 이메일과 비밀번호 설정 및 본인인증을 통해 GM 통합계정 회원가입을 하실 수 있습니다. 한 번의 회원가입으로 GM의 모든 브랜드 홈페이지 및 앱에서 로그인 하실 수 있습니다. ', '홈페이지 및 앱 통합계정 로그인 화면 하단에 비밀번호 찾기 링크를 통하여 재설정 하실 수 있습니다. ', '변경은 홈페이지를 통해 가능하며, 로그인 후 회원정보 페이지 메뉴에서 보안 >> 이메일 변경을 통해 이메일을, 보안 >> 비밀번호 변경 을 통해 비밀번호를 변경 하실 수 있습니다.  안내에 따라 인증 절차를 완료해주세요. ', '홈페이지에서 로그인 후 오른쪽에 내 계정 아이콘을 클릭하시면  차량 관리 메뉴에 접속하실 수 있습니다. 안내에 따라 차량을 등록 또는 삭제 하실 수 있습니다. ', '통합계정에 가입해야 온스타 계정을 생성할 수 있습니다.  통합 계정은 홈페이지 회원가입을 통해 생성 가능합니다. ', '홈페이지 내 이메일 계정 찾기 링크를 통해 본인 인증을 완료 하시면 기 등록된 이메일을 확인 하실 수 있습니다.  \\n\\n(https://www.chevrolet.co.kr/member/id-check.gm ) ', '통합계정 탈퇴 (혹은 통합계정 회원 삭제)는 홈페이지를 통해 요청할 수 있습니다. 고객 아이디로 홈페이지에 로그인한 후 화면 오른편 상단의 계정을 클릭하시면 통합계정 탈퇴 메뉴를 확인하실 수 있습니다. 완료되면 고객님의 이메일을 통해 알림을 보내드립니다. ', '통합계정 전환 캠페인에 참여하지 않으셨으면 이전 계정 정보는 모두 삭제 됩니다. 새 이메일로 회원 가입을 진행 해 주세요. 차고에 해당 차량을 등록하시면 이전 정비 이력 및 구매 이력을 확인 하실 수 있습니다. ', '회원 탈퇴(또는 계정 삭제) 후 동일한 이메일로 재가입 가능합니다. ']\n",
      "['근저당 설정 해지 방법 및 절차를 알고싶습니다.', '저공해 증명서 재발급 철차 및 장소를 알고싶습니다.', '재고차 구입 조건시 할인율을 알고싶습니다.', '신차 구입시 출고 예정일 확인 방법을 알고싶습니다.', '할부금 중도 상환 방법을 알고싶습니다.', '신차 구입시 신용카드 사용과 캐피탈 이용 동시에 가능 여부를 알고싶습니다.', '신차 구입시 신용카드 복수 사용 여부를 알고싶습니다.', '구입시 계약자와 신용카드 계약자 명의는 어떻게 해야하나요?', '신용카드로 차량 구입시 소득공제 여부를 알고싶습니다.', '할부를 진행하는 캐피탈사를 확인하는 방법은 무엇입니까?', '유로5 디젤 엔진 장착 차량 운행 중에 DPF 재생 알림등이 점등됩니다. DPF가 어떤 내용인가요?', '내비게이션 업그레이드 방법은 무엇입니까?', '시동 키가 돌아가지 않을때(핸들잠김) 해결방법은 무엇입니까?', '정비 예약은 어떻게 해야하나요?', '차량 정비시 정비 비용 할인 방법은 무엇입니까?', '리모콘키 분실 후 일반키로 시동시 경보음 발생 해지 방법은 무엇입니까?', '모든 자동차 키를 분실한 경우 해결 방안은 무엇입니까?', '리모콘 키를 분실한 경우는 어떻게 해야하나요?', '핸들을 끝까지 돌렸을 때 소리가 나는데 해결방법은 무엇입니까?', '하얀색 배기가스가 많이 나오는데 해결방법은 무엇입니까?', '통합계정이란 무엇인가요?', 'GM 통합계정에는 어떻게 로그인 하나요?', '비밀번호를 잊었을 때는 어떻게 해야 하나요?', '내 이메일 혹은 비밀번호를 바꿀 수 있나요?', '내 계정에서 차량 추가 등록 또는 삭제는 어떻게 하나요?', '온스타 서비스를 사용하고 싶습니다. 통합계정이 있어야 하나요?', '가입한 이메일을 잊었습니다. 어떻게 찾을 수 있나요?', '통합계정 탈퇴 (혹은 통합계정 회원 삭제)는 어떻게 하나요?', '이전 통합 계정 전환 캠페인에 참여하지 않았습니다. 어떻게 로그인 해야 하나요?', '회원 탈퇴 후 재가입시 동일한 이메일로 가입 가능한가요?']\n",
      "[None, None, None, None, None, None, None, None, None, None, None, None, None, None, None, None, None, None, None, None, None, None, None, None, None, None, None, None, None, None]\n",
      "['차량구매', '차량구매', '차량구매', '차량구매', '차량구매', '차량구매', '차량구매', '차량구매', '차량구매', '차량구매', '차량정비', '차량정비', '차량정비', '차량정비', '차량정비', '차량정비', '차량정비', '차량정비', '차량정비', '차량정비', '홈페이지', '홈페이지', '홈페이지', '홈페이지', '홈페이지', '홈페이지', '홈페이지', '홈페이지', '홈페이지', '홈페이지']\n"
     ]
    }
   ],
   "source": [
    "print(text)\n",
    "print(title)\n",
    "print(images)\n",
    "print(category)"
   ]
  },
  {
   "cell_type": "code",
   "execution_count": 48,
   "metadata": {},
   "outputs": [
    {
     "name": "stdout",
     "output_type": "stream",
     "text": [
      "30\n",
      "30\n",
      "30\n",
      "30\n",
      "['자동차 근저당 설정 해지는 할부를 진행한 할부사의 지점을 방문하여 근저당 설정 해지 서류를 받으신 다음에 해당 관청(시청, 구청, 군청)의 차량 등록 사업부의 저당 설정 해지 창구에 제출하시면 됩니다. ', '저공해 자동차 증명서는 차량 구입을 담당한 전시장을 통해 재 발급이 가능합니다. \\n  차량 구입을 담당한 전시장이 폐점되어 재 발급이 어려운 경우에는 한국지엠 고객센터(☎ 080-3000-5000)로 연락주시기 바랍니다. ', '쉐보레 전시장을 통해 자세한 상담 받아주시기 바랍니다.', '출고예정일은 고객님께서 선택하신 차종, 옵션, 색상 등에 따라 다소 차이가 있습니다. \\n  차량 구입을 담당한 전시장(카매니저)을 통해 상담 받아주시길 부탁 드립니다. ', '할부금 중도 상환은 가능하며, 중도상환에 따른 수수료가 발생됩니다.\\n  할부금 잔액과 수수료, 납입 방법 관련해서는 이용하시는 할부사를 통해 자세한 상담 받아보시기 바랍니다. ', '신용카드 결제와 할부사 이용을 중복하여 사용 가능합니다. (계약자 본인 카드만 가능) ', '자동차 구입시 신용카드를 이용한 결제는 신용카드 개수에 제한 없이 결제 가능하고, 고객님 신용카드 한도 내에서 희망하시는 금액까지 자유로운 결제가 가능합니다. (자세한 내용은 담당 카매니저에게 문의하시기 바랍니다)  ', '여신전문금융법에 의해 결제권자와 소유권자는 동일해야 하며, 신차 구입시 신용카드 결제는 본인명의 카드로만 결제 가능합니다.', '조세특례제한법에 의거 신규로 출고되는 자동차 구입시 신용카드 금액은 소득공제 대상에서 제외됩니다.', '차량 구입을 상담한 전시장에 문의하시기 바랍니다.', '크루즈 디젤, 캡티바, 올란도 고객님, 쉐보레 차량을 운행해 주셔서 진심으로 감사 드립니다. \\n  차량을 운행하시다 보면 계기판 상에 DPF 재생 알림등이 점등되거나 깜박거리는 경우가 있습니다. 이는 차량에 문제가 있는 것이 아니오니 안심하시고 시속 60km 이상으로 약 20여분 정속 주행하시면 자동으로 DPF 재생 알림등이 소등됩니다.\\n  해당 운행 정보 참고하시어, 안전 운전 하시기 바랍니다. \\n  DPF 재생 알림등 점등 원리: DPF는 디젤엔진의 배기가스 중 외부로 배출되는 매연을 저감시켜 주는 장치로, DPF에 매연이 과도하게 축적되면 DPF재생을 통해 자기 정화 기능을 수행합니다. \\n  보통 전자제어컴퓨터가 최적의 조건을 판단하여 자동적으로 DPF재생을 수행하나, 자동 재생이 되지 않았을 경우 보다 효율적인 재생을 위해 전자제어컴퓨터가 주행모드를 변경하거나 시동을 끄고 켜는 것을 자제할 것을 요청할 수 있습니다.\\n  이 경우, DPF 재생 알림등이 점등되거나 깜박거리며 운전자에게 알람을 주게 됩니다. \\n  이는 모든 디젤 차량에서 일반적인 현상으로 알려드린 대로 주행모드를 변경하시면 DPF 재생이 이루어지면서 소등이 됩니다. ', '· 대성엘텍 및 S&T 대우 내비게이션 (크루즈, 말리부, ALL NEW 말리부, 올란도, 캡티바, 임팔라, 카마로SS, 알페온, 윈스톰, 토스카) \\n  내비게이션 업데이트는 www.rousen.com/gm 를 통해 다운로드 받아주시거나, 쉐보레 직영 서비스센터로 방문하여 업데이트를 받아보시기 바랍니다.(고객지원센터☎ 02-838-0777) \\n  차종 및 내비게이션 모델에 따라 CD를 구입하여 업데이트를 하는 방식도 있으니 보다 자세한 사항은 한국지엠 고객 센터(☎ 080-3000-5000)로 문의하시면 상세히 안내 받아보실 수 있습니다. ', '대부분의 경우 이런 현상이 일어나는 원인은 키를 꽂아두지 않은 상태 즉, 시동을 끈 상태에서 핸들을 돌렸을 경우 핸들이 잠기는 현상이 발생합니다. \\n  이는 도난방지를 위한 하나의 방편인데, 이때는 키가 돌아가지 않아서 시동이 걸리지 않습니다.\\n  이때 핸들을 푸는 방법은 왼손으로 핸들의 좌측상 단부를 잡고 시계 반대방향으로 힘껏 당기면서(돌리듯) 오른손으로 키를 돌리면 시동이 걸리면서 핸들이 풀립니다. ', '인터넷 정비 예약은 쉐보레 멤버스 고객께 제공되는 서비스입니다. \\n  우선은 쉐보레 멤버스에 가입을 하신 후 쉐보레 홈페이지의 쉐비케어 → 정비서비스 → 서비스센터 찾기 및 예약에서 가능합니다. ', '▶ 굿모닝 예약 할인\\n  오전 8:40 ~ 9:30 (입고시간 기준)에 예약하시면 총 수리비의 5%를 할인해 드립니다. (단, 인천/창원정비사업소, 속초바로정비: 오전 8:10 ~ 9:00 까지 할인) \\n  굿모닝 예약 할인은 주중(월~금)에만 적용됩니다. (토/일요일 제외) \\n쉐보레 오토카드를 소지하신 경우 5% 추가 할인됩니다. (굿모닝 예약 할인에 한함)  \\n  ▶ 오토카드 \\n해당카드 제출 시 수리비의 5%를 현장에서 할인해 드립니다. \\n  ▶ 굿모닝예약 & 오토카드 \\n총 수리비의 10% 를 할인해드립니다. ', '과거에는 리모콘키로 도어를 잠근 후 수동키로 열면 도난 경보음이 작동하였으나, 최근 생산 되는 차량은 일반키를 리모콘키가 감지하여, 수동키로 도어를 열 경우 정상적인 도어 개폐로 인식하기 때문에 경보음이 작동하지 않습니다.\\n  도난 경보 경고음은 리모콘키나 수동키를 사용하지 않고 다른 방법으로 도어, 트렁크, 엔진후드를 열 때 작동 됩니다. 단, 연식이 오래된 차량의 경우, 도난방지장치가 작동 중인 상태에서는 리모콘키를 사용하지 않고 수동키나 비정상적인 방법으로 도어 및 테일게이트를 열 경우 경고음이 작동됩니다.\\n  리모콘키의 잠금 또는 풀림버튼을 누르면 경보음 작동이 멈춥니다. 즉, 리모콘키로 도난 경계에 진입한 경우 리모콘키 이외의 방법으로 도어를 열게 되면 비상등이 점멸하고 사이렌이 울리면서 도난 경보 상태가 됩니다. 기능상 해제는 사이렌이 28초 동안 작동 후 종료되게 됩니다.', '메인 리모콘키를 비롯 예비 키(보조키)까지 모두 분실을 한 경우라면, 키 박스 전체를 교환하셔야 합니다. 서비스 네트워크까지 차량 운행을 못하는 경우이므로, 견인을 통해서 입고를 하여 키 박스 교체 작업을 해야 합니다. ', '순정 리모콘키는 당사 서비스 네트워크를 통해 구입이 가능합니다. \\n  리모콘키 부품을 서비스센터 자재과를 통해서 구입하셔서 새로운 리모콘키와 해당 차량간 코드가 맞도록 셋팅을 하고, 리모콘키의 쇠 부분은 가지고 계신 여분의 키를 이용해 외부에서 복사를 하셔야 합니다. ', '예측되는 몇 가지 사항\\n\\n* 조향핸들과 조향핸들축 커버가 간섭\\n\\n* 클럭스프링 불량\\n- 에어백 장착차량의 경우 조향핸들커버 안쪽에 에어백 모듈이 설치되고 이 에어백 모듈에 전기를 공급하기 위한 배선이 스프링 모양으로 감겨있는데, 이를 클럭스프링이라고 합니다. 이 클럭스프링이 조향핸들을 돌리는 과정에서 소음이 발생될 수 있습니다.\\n\\n* 조향핸들축이 회전시 간섭\\n-조향핸들축과 바닥 고무패킹 부위가 간섭될 경우 핸들 조향시 마찰음이 발생됩니다.\\n\\n* 조향핸들 기어박스의 고무패킹 윤활불량\\n-조향핸들 기어박스의 피니언기어축 고무부싱에서 주로 발생되며 피니언기어축이 회전할 때 마찰음이 발생됩니다.\\n\\n* 파워핸들 오일펌프 불량\\n-파워핸들 오일펌프가 불량하거나 오일이 부족할 경우 핸들을 돌릴 때 소음이 발생됩니다.\\n\\n* 파워핸들 오일펌프 벨트 불량\\n-파워 핸들 벨트의 재질이 불량하거나 장력이 약하여 슬립 발생시 소음이 발생됩니다.', '일반적으로 날씨가 추우면 배기가스가 흰 색을 띠는 것이 보통입니다만,\\n엑셀을 밟을 때마다 하얀 연기가 뭉실뭉실 나오면 이것은 엔진오일이 타고 있다는 신호일 수 있습니다.\\n\\n또 경우에 따라서는 연료에 불순물이 섞여 있을 경우나, 냉각수 부족으로 엔진이 과열 되었을 때에도 하얀 배기 가스가 나옵니다. 어떤 경우이든 하얀색의 배기가스가 나오면 우선 냉각수 상황과 엔진오일의 적정 여부부터 점검하는 것이 순서입니다.\\n\\n만일 냉각수나 엔진오일이 적정 수준이거나, 아니면 교환한지 얼마 지나지 않았음에도 하연색 배기가스가 나온 상태라면, 피스톤이나 실린더 벽이 마모되어 틈새가 많이 벌어졌거나, 피스톤과 실린더의 작동이 원활하도록 엔진오일 양을 조정하는 피스톤 링이 손상되었거나, 차가 연식이 오래된 경우라면 엔진을 밀봉해 주는 가스켓이 손상된 경우도 원인일 수 있습니다.', '한 개의 계정으로 GM의 모든 브랜드 차량을 관리하고 모든 브랜드의 온라인 서비스를 이용 할 수 있는 통합계정 시스템 입니다. ', '본인의 이메일과 비밀번호 설정 및 본인인증을 통해 GM 통합계정 회원가입을 하실 수 있습니다. 한 번의 회원가입으로 GM의 모든 브랜드 홈페이지 및 앱에서 로그인 하실 수 있습니다. ', '홈페이지 및 앱 통합계정 로그인 화면 하단에 비밀번호 찾기 링크를 통하여 재설정 하실 수 있습니다. ', '변경은 홈페이지를 통해 가능하며, 로그인 후 회원정보 페이지 메뉴에서 보안 >> 이메일 변경을 통해 이메일을, 보안 >> 비밀번호 변경 을 통해 비밀번호를 변경 하실 수 있습니다.  안내에 따라 인증 절차를 완료해주세요. ', '홈페이지에서 로그인 후 오른쪽에 내 계정 아이콘을 클릭하시면  차량 관리 메뉴에 접속하실 수 있습니다. 안내에 따라 차량을 등록 또는 삭제 하실 수 있습니다. ', '통합계정에 가입해야 온스타 계정을 생성할 수 있습니다.  통합 계정은 홈페이지 회원가입을 통해 생성 가능합니다. ', '홈페이지 내 이메일 계정 찾기 링크를 통해 본인 인증을 완료 하시면 기 등록된 이메일을 확인 하실 수 있습니다.  \\n\\n(https://www.chevrolet.co.kr/member/id-check.gm ) ', '통합계정 탈퇴 (혹은 통합계정 회원 삭제)는 홈페이지를 통해 요청할 수 있습니다. 고객 아이디로 홈페이지에 로그인한 후 화면 오른편 상단의 계정을 클릭하시면 통합계정 탈퇴 메뉴를 확인하실 수 있습니다. 완료되면 고객님의 이메일을 통해 알림을 보내드립니다. ', '통합계정 전환 캠페인에 참여하지 않으셨으면 이전 계정 정보는 모두 삭제 됩니다. 새 이메일로 회원 가입을 진행 해 주세요. 차고에 해당 차량을 등록하시면 이전 정비 이력 및 구매 이력을 확인 하실 수 있습니다. ', '회원 탈퇴(또는 계정 삭제) 후 동일한 이메일로 재가입 가능합니다. ']\n",
      "['근저당 설정 해지 방법 및 절차를 알고싶습니다.', '저공해 증명서 재발급 철차 및 장소를 알고싶습니다.', '재고차 구입 조건시 할인율을 알고싶습니다.', '신차 구입시 출고 예정일 확인 방법을 알고싶습니다.', '할부금 중도 상환 방법을 알고싶습니다.', '신차 구입시 신용카드 사용과 캐피탈 이용 동시에 가능 여부를 알고싶습니다.', '신차 구입시 신용카드 복수 사용 여부를 알고싶습니다.', '구입시 계약자와 신용카드 계약자 명의는 어떻게 해야하나요?', '신용카드로 차량 구입시 소득공제 여부를 알고싶습니다.', '할부를 진행하는 캐피탈사를 확인하는 방법은 무엇입니까?', '유로5 디젤 엔진 장착 차량 운행 중에 DPF 재생 알림등이 점등됩니다. DPF가 어떤 내용인가요?', '내비게이션 업그레이드 방법은 무엇입니까?', '시동 키가 돌아가지 않을때(핸들잠김) 해결방법은 무엇입니까?', '정비 예약은 어떻게 해야하나요?', '차량 정비시 정비 비용 할인 방법은 무엇입니까?', '리모콘키 분실 후 일반키로 시동시 경보음 발생 해지 방법은 무엇입니까?', '모든 자동차 키를 분실한 경우 해결 방안은 무엇입니까?', '리모콘 키를 분실한 경우는 어떻게 해야하나요?', '핸들을 끝까지 돌렸을 때 소리가 나는데 해결방법은 무엇입니까?', '하얀색 배기가스가 많이 나오는데 해결방법은 무엇입니까?', '통합계정이란 무엇인가요?', 'GM 통합계정에는 어떻게 로그인 하나요?', '비밀번호를 잊었을 때는 어떻게 해야 하나요?', '내 이메일 혹은 비밀번호를 바꿀 수 있나요?', '내 계정에서 차량 추가 등록 또는 삭제는 어떻게 하나요?', '온스타 서비스를 사용하고 싶습니다. 통합계정이 있어야 하나요?', '가입한 이메일을 잊었습니다. 어떻게 찾을 수 있나요?', '통합계정 탈퇴 (혹은 통합계정 회원 삭제)는 어떻게 하나요?', '이전 통합 계정 전환 캠페인에 참여하지 않았습니다. 어떻게 로그인 해야 하나요?', '회원 탈퇴 후 재가입시 동일한 이메일로 가입 가능한가요?']\n",
      "[None, None, None, None, None, None, None, None, None, None, None, None, None, None, None, None, None, None, None, None, None, None, None, None, None, None, None, None, None, None]\n",
      "['차량구매', '차량구매', '차량구매', '차량구매', '차량구매', '차량구매', '차량구매', '차량구매', '차량구매', '차량구매', '차량정비', '차량정비', '차량정비', '차량정비', '차량정비', '차량정비', '차량정비', '차량정비', '차량정비', '차량정비', '홈페이지', '홈페이지', '홈페이지', '홈페이지', '홈페이지', '홈페이지', '홈페이지', '홈페이지', '홈페이지', '홈페이지']\n"
     ]
    }
   ],
   "source": []
  },
  {
   "cell_type": "code",
   "execution_count": 36,
   "metadata": {},
   "outputs": [
    {
     "name": "stdout",
     "output_type": "stream",
     "text": [
      "Requirement already satisfied: psycopg2 in c:\\users\\user\\anaconda3\\lib\\site-packages (2.9.9)\n"
     ]
    }
   ],
   "source": [
    "!pip install psycopg2\n"
   ]
  },
  {
   "cell_type": "code",
   "execution_count": 42,
   "metadata": {},
   "outputs": [],
   "source": [
    "import psycopg2"
   ]
  },
  {
   "cell_type": "code",
   "execution_count": 58,
   "metadata": {},
   "outputs": [],
   "source": [
    "for i in range(len(title)):\n",
    "    with psycopg2.connect(\n",
    "        host='localhost',\n",
    "        dbname='postgres',\n",
    "        user='postgres',\n",
    "        password='1',\n",
    "        port=5432\n",
    "        )as conn:\n",
    "            with conn.cursor() as cur:\n",
    "                cur.execute(f'''INSERT INTO faq VALUES ('encoe', '{title[i]}', '{category[i]}', '{images[i]}', '{text[i]}')''')"
   ]
  },
  {
   "cell_type": "code",
   "execution_count": 47,
   "metadata": {},
   "outputs": [],
   "source": [
    "for i in range(len(text)):\n",
    "    with psycopg2.connect(\n",
    "                host='192.168.0.87',\n",
    "                dbname='postgres',\n",
    "                user='postgres',\n",
    "                password='qksrkqek12',\n",
    "                port=8874\n",
    "            )as conn:\n",
    "                with conn.cursor() as cur:\n",
    "                    cur.execute(f'''INSERT INTO project1.faq VALUES ('chevrolet', '{title[i]}', '{category[i]}', '{images[i]}', '{text[i]}')''')\n"
   ]
  }
 ],
 "metadata": {
  "kernelspec": {
   "display_name": "base",
   "language": "python",
   "name": "python3"
  },
  "language_info": {
   "codemirror_mode": {
    "name": "ipython",
    "version": 3
   },
   "file_extension": ".py",
   "mimetype": "text/x-python",
   "name": "python",
   "nbconvert_exporter": "python",
   "pygments_lexer": "ipython3",
   "version": "3.12.4"
  }
 },
 "nbformat": 4,
 "nbformat_minor": 2
}
